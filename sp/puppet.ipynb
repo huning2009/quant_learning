{
 "cells": [
  {
   "cell_type": "code",
   "execution_count": 1,
   "metadata": {},
   "outputs": [],
   "source": [
    "# import easytrader as et\n",
    "# user = et.use('ths')\n",
    "# user.connect(path)\n",
    "# user.balance"
   ]
  },
  {
   "cell_type": "code",
   "execution_count": 1,
   "metadata": {},
   "outputs": [],
   "source": [
    "# path = r'C:\\同花顺软件\\同花顺\\xiadan.exe'\n",
    "# path = r'E:\\Program Files\\xiadan\\simu\\xiadan.exe'\n",
    "# path = r'E:\\Program Files\\xiadan\\htwt\\xiadan.exe'"
   ]
  },
  {
   "cell_type": "code",
   "execution_count": 4,
   "metadata": {},
   "outputs": [],
   "source": []
  },
  {
   "cell_type": "code",
   "execution_count": 1,
   "metadata": {},
   "outputs": [],
   "source": [
    "import puppet\n",
    "quant = puppet.Client()"
   ]
  },
  {
   "cell_type": "code",
   "execution_count": 2,
   "metadata": {},
   "outputs": [],
   "source": []
  },
  {
   "cell_type": "code",
   "execution_count": 5,
   "metadata": {},
   "outputs": [],
   "source": []
  },
  {
   "cell_type": "code",
   "execution_count": 7,
   "metadata": {},
   "outputs": [
    {
     "name": "stdout",
     "output_type": "stream",
     "text": [
      "2019-02-14 22:24:34 Thu 正在尝试运行客户端(\"E:\\Program Files\\xiadan\\htwt\\xiadan.exe\")...\n",
      "\n",
      "2019-02-14 22:24:36 Thu 正在尝试登入交易服务器...\n",
      "2019-02-14 22:24:39 Thu 已登入交易服务器。\n",
      "木偶：\"我准备好了\"\n"
     ]
    },
    {
     "data": {
      "text/plain": [
       "<Client(ver=0.7.9 client=同花顺 root=985856)>"
      ]
     },
     "execution_count": 7,
     "metadata": {},
     "output_type": "execute_result"
    }
   ],
   "source": [
    "import puppet\n",
    "quant = puppet.Client()\n",
    "# account_no = ''\n",
    "# pw = ''\n",
    "# cpw = ''\n",
    "# path = r'E:\\Program Files\\xiadan\\htwt\\xiadan.exe'\n",
    "\n",
    "quant.login(account_no=account_no, password=pw, comm_pwd=cpw, client_path=path)"
   ]
  },
  {
   "cell_type": "code",
   "execution_count": 11,
   "metadata": {},
   "outputs": [],
   "source": [
    "path = r'E:\\Program Files\\xiadan\\ctzq\\xiadan.exe'"
   ]
  },
  {
   "cell_type": "code",
   "execution_count": 12,
   "metadata": {},
   "outputs": [
    {
     "name": "stdout",
     "output_type": "stream",
     "text": [
      "2019-02-14 22:37:46 Thu 正在尝试运行客户端(\"E:\\Program Files\\xiadan\\ctzq\\xiadan.exe\")...\n",
      "\n",
      "2019-02-14 22:37:48 Thu 正在尝试登入交易服务器...\n"
     ]
    }
   ],
   "source": [
    "quant.login(account_no=account_no, password=pw, comm_pwd=cpw, client_path=path)"
   ]
  },
  {
   "cell_type": "code",
   "execution_count": 13,
   "metadata": {},
   "outputs": [
    {
     "data": {
      "text/plain": [
       "282.46"
      ]
     },
     "execution_count": 13,
     "metadata": {},
     "output_type": "execute_result"
    }
   ],
   "source": [
    "quant.balance"
   ]
  },
  {
   "cell_type": "code",
   "execution_count": 14,
   "metadata": {},
   "outputs": [
    {
     "data": {
      "text/plain": [
       "0.0"
      ]
     },
     "execution_count": 14,
     "metadata": {},
     "output_type": "execute_result"
    }
   ],
   "source": [
    "quant.market_value"
   ]
  },
  {
   "cell_type": "code",
   "execution_count": 40,
   "metadata": {},
   "outputs": [
    {
     "data": {
      "text/plain": [
       "(0, '木偶:\"没有回应\"')"
      ]
     },
     "execution_count": 40,
     "metadata": {},
     "output_type": "execute_result"
    }
   ],
   "source": [
    "quant.cancel_buy()"
   ]
  },
  {
   "cell_type": "code",
   "execution_count": 35,
   "metadata": {},
   "outputs": [
    {
     "data": {
      "text/plain": [
       "[]"
      ]
     },
     "execution_count": 35,
     "metadata": {},
     "output_type": "execute_result"
    }
   ],
   "source": [
    "quant.deals"
   ]
  },
  {
   "cell_type": "code",
   "execution_count": 4,
   "metadata": {},
   "outputs": [
    {
     "data": {
      "text/plain": [
       "'666600257695'"
      ]
     },
     "execution_count": 4,
     "metadata": {},
     "output_type": "execute_result"
    }
   ],
   "source": [
    "quant.account"
   ]
  },
  {
   "cell_type": "code",
   "execution_count": 19,
   "metadata": {},
   "outputs": [
    {
     "data": {
      "text/plain": [
       "47965.22"
      ]
     },
     "execution_count": 19,
     "metadata": {},
     "output_type": "execute_result"
    }
   ],
   "source": [
    "quant.assets"
   ]
  },
  {
   "cell_type": "code",
   "execution_count": 6,
   "metadata": {},
   "outputs": [
    {
     "data": {
      "text/plain": [
       "[OrderedDict([('交易市场', '上海Ａ'),\n",
       "              ('证券代码', '732187'),\n",
       "              ('证券名称', '海容申购'),\n",
       "              ('证券面值', '1.000'),\n",
       "              ('申购价格', '32.250'),\n",
       "              ('申购上限', '20000'),\n",
       "              ('申购下限', '1000'),\n",
       "              ('备注', ''),\n",
       "              ('', '')])]"
      ]
     },
     "execution_count": 6,
     "metadata": {},
     "output_type": "execute_result"
    }
   ],
   "source": [
    "quant.new"
   ]
  },
  {
   "cell_type": "code",
   "execution_count": 30,
   "metadata": {},
   "outputs": [
    {
     "data": {
      "text/plain": [
       "[]"
      ]
     },
     "execution_count": 30,
     "metadata": {},
     "output_type": "execute_result"
    }
   ],
   "source": [
    "quant.position"
   ]
  },
  {
   "cell_type": "code",
   "execution_count": 10,
   "metadata": {},
   "outputs": [
    {
     "data": {
      "text/plain": [
       "[OrderedDict([('委托日期', '20181119'),\n",
       "              ('证券代码', '300104'),\n",
       "              ('证券名称', '乐视网'),\n",
       "              ('操作', '买入'),\n",
       "              ('委托价格', '3.060'),\n",
       "              ('委托数量', '200'),\n",
       "              ('委托时间', '23:02:38'),\n",
       "              ('成交数量', '0'),\n",
       "              ('成交均价', '0.000'),\n",
       "              ('合同编号', '52'),\n",
       "              ('交易市场', '深圳Ａ'),\n",
       "              ('股东帐户', '0159552335'),\n",
       "              ('备注', '未报(买卖)'),\n",
       "              ('', '')])]"
      ]
     },
     "execution_count": 10,
     "metadata": {},
     "output_type": "execute_result"
    }
   ],
   "source": [
    "quant.entrustment"
   ]
  },
  {
   "cell_type": "code",
   "execution_count": 15,
   "metadata": {},
   "outputs": [
    {
     "name": "stdout",
     "output_type": "stream",
     "text": [
      "已退出客户端!\n"
     ]
    },
    {
     "data": {
      "text/plain": [
       "<Client(ver=0.7.9 client=同花顺 root=265276)>"
      ]
     },
     "execution_count": 15,
     "metadata": {},
     "output_type": "execute_result"
    }
   ],
   "source": [
    "quant.exit()"
   ]
  },
  {
   "cell_type": "code",
   "execution_count": null,
   "metadata": {},
   "outputs": [],
   "source": []
  },
  {
   "cell_type": "code",
   "execution_count": null,
   "metadata": {},
   "outputs": [],
   "source": []
  }
 ],
 "metadata": {
  "kernelspec": {
   "display_name": "Python (quant)",
   "language": "python",
   "name": "quant"
  },
  "language_info": {
   "codemirror_mode": {
    "name": "ipython",
    "version": 3
   },
   "file_extension": ".py",
   "mimetype": "text/x-python",
   "name": "python",
   "nbconvert_exporter": "python",
   "pygments_lexer": "ipython3",
   "version": "3.6.7"
  },
  "toc": {
   "base_numbering": 1,
   "nav_menu": {},
   "number_sections": true,
   "sideBar": true,
   "skip_h1_title": false,
   "title_cell": "Table of Contents",
   "title_sidebar": "Contents",
   "toc_cell": false,
   "toc_position": {},
   "toc_section_display": true,
   "toc_window_display": false
  },
  "varInspector": {
   "cols": {
    "lenName": 16,
    "lenType": 16,
    "lenVar": 40
   },
   "kernels_config": {
    "python": {
     "delete_cmd_postfix": "",
     "delete_cmd_prefix": "del ",
     "library": "var_list.py",
     "varRefreshCmd": "print(var_dic_list())"
    },
    "r": {
     "delete_cmd_postfix": ") ",
     "delete_cmd_prefix": "rm(",
     "library": "var_list.r",
     "varRefreshCmd": "cat(var_dic_list()) "
    }
   },
   "types_to_exclude": [
    "module",
    "function",
    "builtin_function_or_method",
    "instance",
    "_Feature"
   ],
   "window_display": false
  }
 },
 "nbformat": 4,
 "nbformat_minor": 2
}
